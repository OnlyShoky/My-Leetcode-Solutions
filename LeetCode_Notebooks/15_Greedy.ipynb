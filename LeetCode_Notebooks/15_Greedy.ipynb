{
    "cells": [
        {
            "cell_type": "code",
            "execution_count": 2,
            "id": "8594a223",
            "metadata": {},
            "outputs": [
                {
                    "name": "stdout",
                    "output_type": "stream",
                    "text": [
                        "maxSubArray:\n",
                        "Input: nums = [2, -3, 4, -2, 2, 1, -1, 4]\n",
                        "Output: 8, Expected: 8\n",
                        "\n"
                    ]
                }
            ],
            "source": [
                "from typing import List\n",
                "\n",
                "class Solution:\n",
                "    def maxSubArray(self, nums: List[int]) -> int:\n",
                "        \n",
                "        globalSum = nums[0]\n",
                "        \n",
                "        currSum=globalSum\n",
                "        for i in range(1,len(nums)):\n",
                "            currSum = max(currSum + nums[i], nums[i])\n",
                "            globalSum = max(globalSum,currSum)\n",
                "        \n",
                "        return globalSum\n",
                "\n",
                "# Create an instance of Solution\n",
                "solution = Solution()\n",
                "\n",
                "# Test cases\n",
                "print(\"maxSubArray:\")\n",
                "\n",
                "# Test Case 1\n",
                "nums = [2,-3,4,-2,2,1,-1,4]\n",
                "expected1 = 8\n",
                "print(f\"Input: nums = {nums}\")\n",
                "print(f\"Output: {solution.maxSubArray(nums)}, Expected: {expected1}\\n\")\n",
                "\n"
            ]
        }
    ],
    "metadata": {
        "kernelspec": {
            "display_name": "Python 3",
            "language": "python",
            "name": "python3"
        },
        "language_info": {
            "codemirror_mode": {
                "name": "ipython",
                "version": 3
            },
            "file_extension": ".py",
            "mimetype": "text/x-python",
            "name": "python",
            "nbconvert_exporter": "python",
            "pygments_lexer": "ipython3",
            "version": "3.10.11"
        }
    },
    "nbformat": 4,
    "nbformat_minor": 5
}
