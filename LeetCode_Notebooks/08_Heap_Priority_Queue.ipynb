{
    "cells": [
        {
            "cell_type": "code",
            "execution_count": 6,
            "id": "7fbb2a12",
            "metadata": {},
            "outputs": [
                {
                    "name": "stdout",
                    "output_type": "stream",
                    "text": [
                        "Output: [None, None, 1, None, 2.0, None, 2]\n"
                    ]
                }
            ],
            "source": [
                "\n",
                "class MedianFinder:\n",
                "    def __init__(self):\n",
                "        self.values=[]\n",
                "        self.size = 0\n",
                "        \n",
                "\n",
                "    def addNum(self, num: int) -> None:\n",
                "        if not self.values:\n",
                "            self.values.append(num)\n",
                "        else:\n",
                "            left, right = 0, len(self.values) - 1\n",
                "            while left <= right:\n",
                "                mid = (left + right) // 2\n",
                "                if self.values[mid] == num:\n",
                "                    self.values.insert(mid, num)\n",
                "                    break\n",
                "                elif self.values[mid] < num:\n",
                "                    left = mid + 1\n",
                "                else:\n",
                "                    right = mid - 1\n",
                "            else:\n",
                "                self.values.insert(left, num)\n",
                "            \n",
                "        self.size+=1\n",
                "        \n",
                "        \n",
                "\n",
                "    def findMedian(self) -> float:\n",
                "        if (self.size)%2 == 0 :\n",
                "            median = (self.values[int(self.size/2)] + self.values[int(self.size/2) -1]) / 2\n",
                "            return median\n",
                "        else:\n",
                "            return self.values[int(self.size/2)] \n",
                "            \n",
                "        \n",
                "\n",
                "# Example usage:\n",
                "commands = [\"MedianFinder\", \"addNum\", \"findMedian\", \"addNum\", \"findMedian\", \"addNum\", \"findMedian\"]\n",
                "values = [[], [1], [], [3], [], [2], []]\n",
                "\n",
                "output = []\n",
                "medianFinder = None\n",
                "\n",
                "for command, value in zip(commands, values):\n",
                "    if command == \"MedianFinder\":\n",
                "        medianFinder = MedianFinder()\n",
                "        output.append(None)\n",
                "    elif command == \"addNum\":\n",
                "        medianFinder.addNum(value[0])\n",
                "        output.append(None)\n",
                "    elif command == \"findMedian\":\n",
                "        output.append(medianFinder.findMedian())\n",
                "\n",
                "print(\"Output:\", output)\n"
            ]
        },
        {
            "cell_type": "markdown",
            "id": "c9d5959d",
            "metadata": {},
            "source": [
                "Output: [None, None, 1, None, 2.0, None, 2]"
            ]
        }
    ],
    "metadata": {
        "kernelspec": {
            "display_name": "Python 3",
            "language": "python",
            "name": "python3"
        },
        "language_info": {
            "codemirror_mode": {
                "name": "ipython",
                "version": 3
            },
            "file_extension": ".py",
            "mimetype": "text/x-python",
            "name": "python",
            "nbconvert_exporter": "python",
            "pygments_lexer": "ipython3",
            "version": "3.7.0"
        }
    },
    "nbformat": 4,
    "nbformat_minor": 5
}
