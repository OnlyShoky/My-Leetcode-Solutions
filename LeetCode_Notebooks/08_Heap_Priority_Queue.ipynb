{
    "cells": [
        {
            "cell_type": "code",
            "execution_count": 7,
            "id": "7fbb2a12",
            "metadata": {},
            "outputs": [
                {
                    "name": "stdout",
                    "output_type": "stream",
                    "text": [
                        "Output: [None, None, 1, None, 2.0, None, 2]\n"
                    ]
                }
            ],
            "source": [
                "import heapq\n",
                "\n",
                "class MedianFinder:\n",
                "    def __init__(self):\n",
                "        # Two heaps: a max-heap for the left half and a min-heap for the right half\n",
                "        self.small = []  # Max-heap (invert numbers for max-heap behavior)\n",
                "        self.large = []  # Min-heap\n",
                "\n",
                "    def addNum(self, num: int) -> None:\n",
                "        # Add to max heap (invert to use as max-heap)\n",
                "        heapq.heappush(self.small, -num)\n",
                "\n",
                "        # Balance the heaps (ensure smallest element of large is greater than largest of small)\n",
                "        if self.small and self.large and (-self.small[0] > self.large[0]):\n",
                "            heapq.heappush(self.large, -heapq.heappop(self.small))\n",
                "\n",
                "        # Ensure size property (small can have at most one more element than large)\n",
                "        if len(self.small) > len(self.large) + 1:\n",
                "            heapq.heappush(self.large, -heapq.heappop(self.small))\n",
                "        elif len(self.large) > len(self.small):\n",
                "            heapq.heappush(self.small, -heapq.heappop(self.large))\n",
                "\n",
                "    def findMedian(self) -> float:\n",
                "        # If odd number of elements, the median is the root of the max-heap (small)\n",
                "        if len(self.small) > len(self.large):\n",
                "            return -self.small[0]\n",
                "        # If even number of elements, the median is the average of the roots of both heaps\n",
                "        return (-self.small[0] + self.large[0]) / 2.0 \n",
                "            \n",
                "        \n",
                "\n",
                "# Example usage:\n",
                "commands = [\"MedianFinder\", \"addNum\", \"findMedian\", \"addNum\", \"findMedian\", \"addNum\", \"findMedian\"]\n",
                "values = [[], [1], [], [3], [], [2], []]\n",
                "\n",
                "output = []\n",
                "medianFinder = None\n",
                "\n",
                "for command, value in zip(commands, values):\n",
                "    if command == \"MedianFinder\":\n",
                "        medianFinder = MedianFinder()\n",
                "        output.append(None)\n",
                "    elif command == \"addNum\":\n",
                "        medianFinder.addNum(value[0])\n",
                "        output.append(None)\n",
                "    elif command == \"findMedian\":\n",
                "        output.append(medianFinder.findMedian())\n",
                "\n",
                "print(\"Output:\", output)\n"
            ]
        },
        {
            "cell_type": "markdown",
            "id": "c9d5959d",
            "metadata": {},
            "source": [
                "Output: [None, None, 1, None, 2.0, None, 2]"
            ]
        },
        {
            "cell_type": "code",
            "execution_count": 10,
            "id": "46022a29",
            "metadata": {},
            "outputs": [
                {
                    "name": "stdout",
                    "output_type": "stream",
                    "text": [
                        "Heapified list: [0, 1, 2, 4, 3, 8, 7, 6, 5, 9]\n",
                        "Heapified list: 0\n",
                        "Heapified list: [0, 1, 2, 4, 3, 8, 7, 6, 5, 9, 5]\n",
                        "Heapified list: [0, 1, 2, 4, 3, 8, 7, 6, 5, 9, 5, 10]\n",
                        "Heapified list: [0, 1, 2, 4, 3, 8, 7, 6, 5, 9, 5, 10, 11]\n"
                    ]
                }
            ],
            "source": [
                "import heapq\n",
                "\n",
                "# Create a list with 10 values\n",
                "values = [5, 3, 8, 1, 9, 2, 7, 6, 4, 0]\n",
                "\n",
                "# Convert the list into a heap\n",
                "heapq.heapify(values)\n",
                "\n",
                "# Print the heapified list\n",
                "print(\"Heapified list:\", values)\n",
                "print(\"Heapified list:\", values[0])\n",
                "heapq.heappush(values, 5)\n",
                "print(\"Heapified list:\", values)\n",
                "\n",
                "heapq.heappush(values, 10)\n",
                "print(\"Heapified list:\", values)\n",
                "\n",
                "heapq.heappush(values, 11)\n",
                "print(\"Heapified list:\", values)\n"
            ]
        }
    ],
    "metadata": {
        "kernelspec": {
            "display_name": "Python 3",
            "language": "python",
            "name": "python3"
        },
        "language_info": {
            "codemirror_mode": {
                "name": "ipython",
                "version": 3
            },
            "file_extension": ".py",
            "mimetype": "text/x-python",
            "name": "python",
            "nbconvert_exporter": "python",
            "pygments_lexer": "ipython3",
            "version": "3.7.0"
        }
    },
    "nbformat": 4,
    "nbformat_minor": 5
}
