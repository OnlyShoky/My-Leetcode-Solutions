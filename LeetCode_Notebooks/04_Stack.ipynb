{
    "cells": [
        {
            "cell_type": "code",
            "execution_count": null,
            "id": "8deedca6",
            "metadata": {
                "vscode": {
                    "languageId": "plaintext"
                }
            },
            "outputs": [],
            "source": [
                "class Solution:\n",
                "    # Problem: Valid Parentheses\n",
                "    def isValid(self, s: str) -> bool:\n",
                "        stack = []\n",
                "        mapping = {')': '(', '}': '{', ']': '['}\n",
                "        for char in s:\n",
                "            if char in mapping:\n",
                "                top_element = stack.pop() if stack else '#'\n",
                "                if mapping[char] != top_element:\n",
                "                    return False\n",
                "            else:\n",
                "                stack.append(char)\n",
                "        return not stack\n",
                "\n",
                "\n",
                "# Create an instance of Solution\n",
                "solution = Solution()\n",
                "\n",
                "# Example for Valid Parentheses\n",
                "print(\"Valid Parentheses:\")\n",
                "example1 = \"()[]{}\"\n",
                "print(f\"Input: {example1}\")\n",
                "print(f\"Output: {solution.isValid(example1)}\\n\")\n",
                "\n",
                "example2 = \"(]\"\n",
                "print(f\"Input: {example2}\")\n",
                "print(f\"Output: {solution.isValid(example2)}\\n\")\n",
                "\n",
                "example3 = \"([{}])\"\n",
                "print(f\"Input: {example3}\")\n",
                "print(f\"Output: {solution.isValid(example3)}\")\n"
            ]
        }
    ],
    "metadata": {
        "kernelspec": {
            "display_name": "Python 3",
            "language": "python",
            "name": "python3"
        },
        "language_info": {
            "name": "python",
            "version": "3.8"
        }
    },
    "nbformat": 4,
    "nbformat_minor": 5
}
