{
    "cells": [
        {
            "cell_type": "code",
            "execution_count": 1,
            "id": "8deedca6",
            "metadata": {},
            "outputs": [
                {
                    "name": "stdout",
                    "output_type": "stream",
                    "text": [
                        "Valid Parentheses:\n",
                        "Input: ()[]{}\n",
                        "Output: True\n",
                        "\n",
                        "Input: (]\n",
                        "Output: False\n",
                        "\n",
                        "Input: ([{}])\n",
                        "Output: True\n"
                    ]
                }
            ],
            "source": [
                "class Solution:\n",
                "    # Problem: Valid Parentheses\n",
                "    def isValid(self, s: str) -> bool:\n",
                "        stack = []\n",
                "        mapping = {')': '(', '}': '{', ']': '['}\n",
                "        for char in s:\n",
                "            if char in mapping:\n",
                "                top_element = stack.pop() if stack else '#'\n",
                "                if mapping[char] != top_element:\n",
                "                    return False\n",
                "            else:\n",
                "                stack.append(char)\n",
                "        return not stack\n",
                "\n",
                "\n",
                "# Create an instance of Solution\n",
                "solution = Solution()\n",
                "\n",
                "# Example for Valid Parentheses\n",
                "print(\"Valid Parentheses:\")\n",
                "example1 = \"()[]{}\"\n",
                "print(f\"Input: {example1}\")\n",
                "print(f\"Output: {solution.isValid(example1)}\\n\")\n",
                "\n",
                "example2 = \"(]\"\n",
                "print(f\"Input: {example2}\")\n",
                "print(f\"Output: {solution.isValid(example2)}\\n\")\n",
                "\n",
                "example3 = \"([{}])\"\n",
                "print(f\"Input: {example3}\")\n",
                "print(f\"Output: {solution.isValid(example3)}\")\n"
            ]
        }
    ],
    "metadata": {
        "kernelspec": {
            "display_name": "Python 3",
            "language": "python",
            "name": "python3"
        },
        "language_info": {
            "codemirror_mode": {
                "name": "ipython",
                "version": 3
            },
            "file_extension": ".py",
            "mimetype": "text/x-python",
            "name": "python",
            "nbconvert_exporter": "python",
            "pygments_lexer": "ipython3",
            "version": "3.7.0"
        }
    },
    "nbformat": 4,
    "nbformat_minor": 5
}
