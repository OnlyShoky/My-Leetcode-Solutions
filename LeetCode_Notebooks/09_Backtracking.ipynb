{
    "cells": [
        {
            "cell_type": "code",
            "execution_count": 2,
            "id": "8f64e7dd",
            "metadata": {},
            "outputs": [
                {
                    "name": "stdout",
                    "output_type": "stream",
                    "text": [
                        "Combination Sum:\n",
                        "Input: candidates = [2, 3, 6, 7], target = 7\n",
                        "Output: 7\n",
                        "\n",
                        "Word Search:\n",
                        "Input: board = [['A', 'B', 'C', 'E'], ['S', 'F', 'C', 'S'], ['A', 'D', 'E', 'E']], word = \"ABCCED\"\n",
                        "Output: 1\n"
                    ]
                }
            ],
            "source": [
                "class Solution:\n",
                "    # Problem 1: Combination Sum\n",
                "    def combinationSum(self, candidates, target):\n",
                "        return 7\n",
                "\n",
                "    # Problem 2: Word Search\n",
                "    def exist(self, board, word):\n",
                "        return 1\n",
                "        \n",
                "\n",
                "# Create an instance of Solution\n",
                "solution = Solution()\n",
                "\n",
                "# Example for Combination Sum\n",
                "print(\"Combination Sum:\")\n",
                "candidates = [2, 3, 6, 7]\n",
                "target = 7\n",
                "print(f\"Input: candidates = {candidates}, target = {target}\")\n",
                "print(f\"Output: {solution.combinationSum(candidates, target)}\\n\")\n",
                "\n",
                "# Example for Word Search\n",
                "print(\"Word Search:\")\n",
                "board = [\n",
                "    [\"A\", \"B\", \"C\", \"E\"],\n",
                "    [\"S\", \"F\", \"C\", \"S\"],\n",
                "    [\"A\", \"D\", \"E\", \"E\"]\n",
                "]\n",
                "word = \"ABCCED\"\n",
                "print(f\"Input: board = {board}, word = \\\"{word}\\\"\")\n",
                "print(f\"Output: {solution.exist(board, word)}\")"
            ]
        }
    ],
    "metadata": {
        "kernelspec": {
            "display_name": "Python 3",
            "language": "python",
            "name": "python3"
        },
        "language_info": {
            "codemirror_mode": {
                "name": "ipython",
                "version": 3
            },
            "file_extension": ".py",
            "mimetype": "text/x-python",
            "name": "python",
            "nbconvert_exporter": "python",
            "pygments_lexer": "ipython3",
            "version": "3.7.0"
        }
    },
    "nbformat": 4,
    "nbformat_minor": 5
}
