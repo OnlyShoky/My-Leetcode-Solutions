{
    "cells": [
        {
            "cell_type": "code",
            "execution_count": 2,
            "id": "5f06e665",
            "metadata": {},
            "outputs": [
                {
                    "name": "stdout",
                    "output_type": "stream",
                    "text": [
                        "Longest Common Subsequence:\n",
                        "Input: text1 = abcde, text2 = ace\n",
                        "{'b', 'c', 'e', 'a', 'd'}\n",
                        "{'c', 'a', 'e'}\n",
                        "Output: 0, Expected: 3\n",
                        "\n",
                        "Input: text1 = abc, text2 = def\n",
                        "{'c', 'b', 'a'}\n",
                        "{'f', 'd', 'e'}\n",
                        "Output: 0, Expected: 0\n",
                        "\n",
                        "Input: text1 = abcba, text2 = abcbcba\n",
                        "{'c', 'b', 'a'}\n",
                        "{'c', 'b', 'a'}\n",
                        "Output: 0, Expected: 5\n",
                        "\n"
                    ]
                }
            ],
            "source": [
                "class Solution:\n",
                "      def longestCommonSubsequence(self, text1: str, text2: str) -> int:\n",
                "        text1Set = set(text1)\n",
                "        text2Set = set(text2)\n",
                "        \n",
                "        print(text1Set)\n",
                "        print(text2Set)\n",
                "        \n",
                "        return 0\n",
                "\n",
                "# Create an instance of Solution\n",
                "solution = Solution()\n",
                "\n",
                "# Test cases\n",
                "print(\"Longest Common Subsequence:\")\n",
                "\n",
                "# Test Case 1\n",
                "text1 = \"abcde\"\n",
                "text2 = \"ace\"\n",
                "expected1 = 3\n",
                "print(f\"Input: text1 = {text1}, text2 = {text2}\")\n",
                "print(f\"Output: {solution.longestCommonSubsequence(text1, text2)}, Expected: {expected1}\\n\")\n",
                "\n",
                "# Test Case 2\n",
                "text1 = \"abc\"\n",
                "text2 = \"def\"\n",
                "expected2 = 0\n",
                "print(f\"Input: text1 = {text1}, text2 = {text2}\")\n",
                "print(f\"Output: {solution.longestCommonSubsequence(text1, text2)}, Expected: {expected2}\\n\")\n",
                "\n",
                "# Test Case 3\n",
                "text1 = \"abcba\"\n",
                "text2 = \"abcbcba\"\n",
                "expected3 = 5\n",
                "print(f\"Input: text1 = {text1}, text2 = {text2}\")\n",
                "print(f\"Output: {solution.longestCommonSubsequence(text1, text2)}, Expected: {expected3}\\n\")"
            ]
        }
    ],
    "metadata": {
        "kernelspec": {
            "display_name": "Python 3",
            "language": "python",
            "name": "python3"
        },
        "language_info": {
            "codemirror_mode": {
                "name": "ipython",
                "version": 3
            },
            "file_extension": ".py",
            "mimetype": "text/x-python",
            "name": "python",
            "nbconvert_exporter": "python",
            "pygments_lexer": "ipython3",
            "version": "3.7.0"
        }
    },
    "nbformat": 4,
    "nbformat_minor": 5
}
