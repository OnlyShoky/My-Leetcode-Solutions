{
    "cells": [
        {
            "cell_type": "code",
            "execution_count": 3,
            "id": "5f06e665",
            "metadata": {},
            "outputs": [
                {
                    "name": "stdout",
                    "output_type": "stream",
                    "text": [
                        "3221\n",
                        "123456789\n"
                    ]
                }
            ],
            "source": [
                "#\n",
                "# AI: Certainly!\n",
                "# You can create a function that takes in a number and returns its reverse.\n",
                "# Here’s how you can do it:\n",
                "#\n",
                "\n",
                "def reverse_number(num):\n",
                "  # Reverse the number\n",
                "  reverse = str(num)[::-1]\n",
                "  # Return the number\n",
                "  return reverse\n",
                "\n",
                "## Example usage:\n",
                "print(reverse_number(1223)) # Output: 3221\n",
                "print(reverse_number(987654321)) # Output: 123456789"
            ]
        }
    ],
    "metadata": {
        "kernelspec": {
            "display_name": "Python 3",
            "language": "python",
            "name": "python3"
        },
        "language_info": {
            "codemirror_mode": {
                "name": "ipython",
                "version": 3
            },
            "file_extension": ".py",
            "mimetype": "text/x-python",
            "name": "python",
            "nbconvert_exporter": "python",
            "pygments_lexer": "ipython3",
            "version": "3.7.0"
        }
    },
    "nbformat": 4,
    "nbformat_minor": 5
}
