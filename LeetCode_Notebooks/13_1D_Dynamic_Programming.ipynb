{
    "cells": [
        {
            "cell_type": "code",
            "execution_count": 2,
            "id": "2e81cfe8",
            "metadata": {},
            "outputs": [
                {
                    "name": "stdout",
                    "output_type": "stream",
                    "text": [
                        "Climbing Stairs:\n",
                        "Input: n = 2\n",
                        "Output: 2, Expected: 2\n",
                        "\n",
                        "Input: n = 3\n",
                        "Output: 3, Expected: 3\n",
                        "\n",
                        "Input: n = 5\n",
                        "Output: 8, Expected: 8\n",
                        "\n"
                    ]
                }
            ],
            "source": [
                "class Solution:\n",
                "    def climbStairs(self, n: int) -> int:\n",
                "        \"\"\"\n",
                "        :type n: int\n",
                "        :rtype: int\n",
                "        \"\"\"\n",
                "        # Base cases for 1 and 2 steps\n",
                "        if n == 1:\n",
                "            return 1\n",
                "        if n == 2:\n",
                "            return 2\n",
                "        \n",
                "        # Initialize two variables to store the number of ways\n",
                "        # to reach the previous step and the step before that\n",
                "        prev1, prev2 = 2, 1\n",
                "        \n",
                "        # Calculate the number of ways for each step from 3 to n\n",
                "        for i in range(3, n + 1):\n",
                "            current = prev1 + prev2\n",
                "            prev2 = prev1\n",
                "            prev1 = current\n",
                "        \n",
                "        return prev1\n",
                "\n",
                "# Create an instance of Solution\n",
                "solution = Solution()\n",
                "\n",
                "# Test cases\n",
                "print(\"Climbing Stairs:\")\n",
                "\n",
                "# Test Case 1\n",
                "n1 = 2\n",
                "expected1 = 2\n",
                "print(f\"Input: n = {n1}\")\n",
                "print(f\"Output: {solution.climbStairs(n1)}, Expected: {expected1}\\n\")\n",
                "\n",
                "# Test Case 2\n",
                "n2 = 3\n",
                "expected2 = 3\n",
                "print(f\"Input: n = {n2}\")\n",
                "print(f\"Output: {solution.climbStairs(n2)}, Expected: {expected2}\\n\")\n",
                "\n",
                "# Test Case 3\n",
                "n3 = 5\n",
                "expected3 = 8\n",
                "print(f\"Input: n = {n3}\")\n",
                "print(f\"Output: {solution.climbStairs(n3)}, Expected: {expected3}\\n\")\n"
            ]
        },
        {
            "cell_type": "code",
            "execution_count": 4,
            "id": "8f05ca68",
            "metadata": {},
            "outputs": [
                {
                    "name": "stdout",
                    "output_type": "stream",
                    "text": [
                        "House Robber:\n",
                        "Input: nums = [1, 2, 3, 1]\n",
                        "Output: 4, Expected: 4\n",
                        "\n",
                        "Input: nums = [2, 7, 9, 3, 1]\n",
                        "Output: 12, Expected: 12\n"
                    ]
                }
            ],
            "source": [
                "from typing import List\n",
                "\n",
                "class Solution:\n",
                "    def rob(self, nums: List[int]) -> int:\n",
                "        rob1, rob2 = 0, 0\n",
                "\n",
                "        for num in nums:\n",
                "            temp = max(num + rob1, rob2)\n",
                "            rob1 = rob2\n",
                "            rob2 = temp\n",
                "        return rob2\n",
                "\n",
                "# Create an instance of Solution\n",
                "solution = Solution()\n",
                "\n",
                "# Example for House Robber\n",
                "print(\"House Robber:\")\n",
                "# Example 1\n",
                "nums1 = [1, 2, 3, 1]\n",
                "expected1 = 4\n",
                "print(f\"Input: nums = {nums1}\")\n",
                "print(f\"Output: {solution.rob(nums1)}, Expected: {expected1}\\n\")\n",
                "\n",
                "# Example 2\n",
                "nums2 = [2, 7, 9, 3, 1]\n",
                "expected2 = 12\n",
                "print(f\"Input: nums = {nums2}\")\n",
                "print(f\"Output: {solution.rob(nums2)}, Expected: {expected2}\")"
            ]
        },
        {
            "cell_type": "code",
            "execution_count": 35,
            "id": "05ea3363",
            "metadata": {},
            "outputs": [
                {
                    "name": "stdout",
                    "output_type": "stream",
                    "text": [
                        "House Robber:\n",
                        "Input: nums = [2, 3, 2]\n",
                        "i: 0, num: 2 rob1: 0 rob2:0\n",
                        "i: 1, num: 3 rob1: 0 rob2:2\n",
                        "i: 2, num: 2 rob1: 2 rob2:3\n",
                        "i: 2, num: 2 rob1: 3 rob2:4\n",
                        "[0, 1, 2] []\n",
                        "Output: 4, Expected: 3\n",
                        "\n",
                        "Input: nums = [1, 2, 3, 1]\n",
                        "i: 0, num: 1 rob1: 0 rob2:0\n",
                        "i: 1, num: 2 rob1: 0 rob2:1\n",
                        "i: 2, num: 3 rob1: 1 rob2:2\n",
                        "i: 3, num: 1 rob1: 2 rob2:4\n",
                        "i: 3, num: 1 rob1: 4 rob2:4\n",
                        "[0, 1, 2] [3]\n",
                        "Output: 4, Expected: 4\n",
                        "Input: nums = [1, 2, 1, 1]\n",
                        "i: 0, num: 1 rob1: 0 rob2:0\n",
                        "i: 1, num: 2 rob1: 0 rob2:1\n",
                        "i: 2, num: 1 rob1: 1 rob2:2\n",
                        "i: 3, num: 1 rob1: 2 rob2:2\n",
                        "i: 3, num: 1 rob1: 2 rob2:3\n",
                        "[0, 1, 3] [2]\n",
                        "Output: 3, Expected: 3\n"
                    ]
                }
            ],
            "source": [
                "from typing import List\n",
                "\n",
                "class Solution:\n",
                "    def rob(self, nums: List[int]) -> int:\n",
                "        rob1, rob2 = 0, 0\n",
                "        indexes1, indexes2 = [], []\n",
                "\n",
                "        for i,num in enumerate(nums):\n",
                "            print(f\"i: {i}, rob1: {rob1} rob2:{rob2} num: {num} \")\n",
                "            temp = max(num + rob1, rob2)\n",
                "            \n",
                "            if num + rob1 > rob2:\n",
                "                indexes1.append(i)\n",
                "            else:\n",
                "                indexes2.append(i)\n",
                "            \n",
                "            rob1 = rob2\n",
                "            rob2 = temp\n",
                "        print(f\"i: {i}, rob1: {rob1} rob2:{rob2} num: {num} \")\n",
                "        print(indexes1, indexes2)\n",
                "            \n",
                "        return rob2\n",
                "\n",
                "# Create an instance of Solution\n",
                "solution = Solution()\n",
                "\n",
                "# Example for House Robber\n",
                "print(\"House Robber:\")\n",
                "# Example 1\n",
                "nums1 = [2,3,2]\n",
                "expected1 = 3\n",
                "print(f\"Input: nums = {nums1}\")\n",
                "print(f\"Output: {solution.rob(nums1)}, Expected: {expected1}\\n\")\n",
                "\n",
                "# Example 2\n",
                "nums2 = [1,2,3,1]\n",
                "expected2 = 4\n",
                "print(f\"Input: nums = {nums2}\")\n",
                "print(f\"Output: {solution.rob(nums2)}, Expected: {expected2}\")\n",
                "\n",
                "# Example 3\n",
                "nums2 = [1,2,1,1]\n",
                "expected2 = 3\n",
                "print(f\"Input: nums = {nums2}\")\n",
                "print(f\"Output: {solution.rob(nums2)}, Expected: {expected2}\")"
            ]
        },
        {
            "cell_type": "code",
            "execution_count": 27,
            "id": "4c559d3e",
            "metadata": {},
            "outputs": [
                {
                    "name": "stdout",
                    "output_type": "stream",
                    "text": [
                        "[2, 1, 1] 1\n"
                    ]
                }
            ],
            "source": [
                "nums2 = [1,2,1,1]\n",
                "print(nums2[1:],nums2[0])"
            ]
        }
    ],
    "metadata": {
        "kernelspec": {
            "display_name": "Python 3",
            "language": "python",
            "name": "python3"
        },
        "language_info": {
            "codemirror_mode": {
                "name": "ipython",
                "version": 3
            },
            "file_extension": ".py",
            "mimetype": "text/x-python",
            "name": "python",
            "nbconvert_exporter": "python",
            "pygments_lexer": "ipython3",
            "version": "3.7.0"
        }
    },
    "nbformat": 4,
    "nbformat_minor": 5
}
