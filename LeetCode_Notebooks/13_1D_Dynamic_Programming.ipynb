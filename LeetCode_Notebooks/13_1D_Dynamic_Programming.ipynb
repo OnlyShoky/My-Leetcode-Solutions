{
    "cells": [
        {
            "cell_type": "code",
            "execution_count": 2,
            "id": "2e81cfe8",
            "metadata": {},
            "outputs": [
                {
                    "name": "stdout",
                    "output_type": "stream",
                    "text": [
                        "Climbing Stairs:\n",
                        "Input: n = 2\n",
                        "Output: 2, Expected: 2\n",
                        "\n",
                        "Input: n = 3\n",
                        "Output: 3, Expected: 3\n",
                        "\n",
                        "Input: n = 5\n",
                        "Output: 8, Expected: 8\n",
                        "\n"
                    ]
                }
            ],
            "source": [
                "class Solution:\n",
                "    def climbStairs(self, n: int) -> int:\n",
                "        \"\"\"\n",
                "        :type n: int\n",
                "        :rtype: int\n",
                "        \"\"\"\n",
                "        # Base cases for 1 and 2 steps\n",
                "        if n == 1:\n",
                "            return 1\n",
                "        if n == 2:\n",
                "            return 2\n",
                "        \n",
                "        # Initialize two variables to store the number of ways\n",
                "        # to reach the previous step and the step before that\n",
                "        prev1, prev2 = 2, 1\n",
                "        \n",
                "        # Calculate the number of ways for each step from 3 to n\n",
                "        for i in range(3, n + 1):\n",
                "            current = prev1 + prev2\n",
                "            prev2 = prev1\n",
                "            prev1 = current\n",
                "        \n",
                "        return prev1\n",
                "\n",
                "# Create an instance of Solution\n",
                "solution = Solution()\n",
                "\n",
                "# Test cases\n",
                "print(\"Climbing Stairs:\")\n",
                "\n",
                "# Test Case 1\n",
                "n1 = 2\n",
                "expected1 = 2\n",
                "print(f\"Input: n = {n1}\")\n",
                "print(f\"Output: {solution.climbStairs(n1)}, Expected: {expected1}\\n\")\n",
                "\n",
                "# Test Case 2\n",
                "n2 = 3\n",
                "expected2 = 3\n",
                "print(f\"Input: n = {n2}\")\n",
                "print(f\"Output: {solution.climbStairs(n2)}, Expected: {expected2}\\n\")\n",
                "\n",
                "# Test Case 3\n",
                "n3 = 5\n",
                "expected3 = 8\n",
                "print(f\"Input: n = {n3}\")\n",
                "print(f\"Output: {solution.climbStairs(n3)}, Expected: {expected3}\\n\")\n"
            ]
        },
        {
            "cell_type": "code",
            "execution_count": 4,
            "id": "8f05ca68",
            "metadata": {},
            "outputs": [
                {
                    "name": "stdout",
                    "output_type": "stream",
                    "text": [
                        "House Robber:\n",
                        "Input: nums = [1, 2, 3, 1]\n",
                        "Output: 4, Expected: 4\n",
                        "\n",
                        "Input: nums = [2, 7, 9, 3, 1]\n",
                        "Output: 12, Expected: 12\n"
                    ]
                }
            ],
            "source": [
                "from typing import List\n",
                "\n",
                "class Solution:\n",
                "    def rob(self, nums: List[int]) -> int:\n",
                "        rob1, rob2 = 0, 0\n",
                "\n",
                "        for num in nums:\n",
                "            temp = max(num + rob1, rob2)\n",
                "            rob1 = rob2\n",
                "            rob2 = temp\n",
                "        return rob2\n",
                "\n",
                "# Create an instance of Solution\n",
                "solution = Solution()\n",
                "\n",
                "# Example for House Robber\n",
                "print(\"House Robber:\")\n",
                "# Example 1\n",
                "nums1 = [1, 2, 3, 1]\n",
                "expected1 = 4\n",
                "print(f\"Input: nums = {nums1}\")\n",
                "print(f\"Output: {solution.rob(nums1)}, Expected: {expected1}\\n\")\n",
                "\n",
                "# Example 2\n",
                "nums2 = [2, 7, 9, 3, 1]\n",
                "expected2 = 12\n",
                "print(f\"Input: nums = {nums2}\")\n",
                "print(f\"Output: {solution.rob(nums2)}, Expected: {expected2}\")"
            ]
        },
        {
            "cell_type": "code",
            "execution_count": 49,
            "id": "05ea3363",
            "metadata": {},
            "outputs": [
                {
                    "name": "stdout",
                    "output_type": "stream",
                    "text": [
                        "House Robber:\n",
                        "Input: nums = [1, 1, 1, 2]\n",
                        "Output: 3, Expected: 3\n",
                        "\n",
                        "Input: nums = [1, 2, 3, 1]\n",
                        "Output: 4, Expected: 4\n",
                        "Input: nums = [2, 9, 8, 3, 6]\n",
                        "Output: 15, Expected: 15\n"
                    ]
                }
            ],
            "source": [
                "from typing import List\n",
                "\n",
                "class Solution:\n",
                "    def robHouse(self, nums: List[int]) -> int:\n",
                "        rob1, rob2 = 0, 0\n",
                "\n",
                "        for num in nums:\n",
                "            temp = max(num + rob1, rob2)\n",
                "            rob1 = rob2\n",
                "            rob2 = temp\n",
                "        return rob2\n",
                "    \n",
                "    def robHouseII(self, nums: List[int]) -> int:\n",
                "        return max(self.robHouse(nums[:-1]), self.robHouse(nums[1:]),nums[0])\n",
                "\n",
                "# Create an instance of Solution\n",
                "solution = Solution()\n",
                "\n",
                "# Example for House Robber\n",
                "print(\"House Robber:\")\n",
                "# Example 1\n",
                "nums1 = [1,1,1,2]\n",
                "expected1 = 3\n",
                "print(f\"Input: nums = {nums1}\")\n",
                "print(f\"Output: {solution.robHouseII(nums1)}, Expected: {expected1}\\n\")\n",
                "\n",
                "# Example 2\n",
                "nums2 = [1,2,3,1]\n",
                "expected2 = 4\n",
                "print(f\"Input: nums = {nums2}\")\n",
                "print(f\"Output: {solution.robHouseII(nums2)}, Expected: {expected2}\")\n",
                "\n",
                "# Example 3\n",
                "nums2 = [2,9,8,3,6]\n",
                "expected2 = 15\n",
                "print(f\"Input: nums = {nums2}\")\n",
                "print(f\"Output: {solution.robHouseII(nums2)}, Expected: {expected2}\")"
            ]
        },
        {
            "cell_type": "code",
            "execution_count": null,
            "id": "a86ff1e6",
            "metadata": {},
            "outputs": [
                {
                    "name": "stdout",
                    "output_type": "stream",
                    "text": [
                        "Longest Palindromic Substring:\n",
                        "Input: nums = ababd\n"
                    ]
                },
                {
                    "ename": "AttributeError",
                    "evalue": "'str' object has no attribute '__reversed__'",
                    "output_type": "error",
                    "traceback": [
                        "\u001b[1;31m---------------------------------------------------------------------------\u001b[0m",
                        "\u001b[1;31mAttributeError\u001b[0m                            Traceback (most recent call last)",
                        "\u001b[1;32m~\\AppData\\Local\\Temp\\ipykernel_7932\\869132298.py\u001b[0m in \u001b[0;36m<module>\u001b[1;34m\u001b[0m\n\u001b[0;32m     33\u001b[0m \u001b[0mexpected1\u001b[0m \u001b[1;33m=\u001b[0m \u001b[1;34m\"bab\"\u001b[0m\u001b[1;33m\u001b[0m\u001b[0m\n\u001b[0;32m     34\u001b[0m \u001b[0mprint\u001b[0m\u001b[1;33m(\u001b[0m\u001b[1;34mf\"Input: nums = {s}\"\u001b[0m\u001b[1;33m)\u001b[0m\u001b[1;33m\u001b[0m\u001b[0m\n\u001b[1;32m---> 35\u001b[1;33m \u001b[0mprint\u001b[0m\u001b[1;33m(\u001b[0m\u001b[1;34mf\"Output: {solution.longestPalindrome(s)}, Expected: {expected1}\\n\"\u001b[0m\u001b[1;33m)\u001b[0m\u001b[1;33m\u001b[0m\u001b[0m\n\u001b[0m\u001b[0;32m     36\u001b[0m \u001b[1;33m\u001b[0m\u001b[0m\n\u001b[0;32m     37\u001b[0m \u001b[1;31m# Example 2\u001b[0m\u001b[1;33m\u001b[0m\u001b[1;33m\u001b[0m\u001b[0m\n",
                        "\u001b[1;32m~\\AppData\\Local\\Temp\\ipykernel_7932\\869132298.py\u001b[0m in \u001b[0;36mlongestPalindrome\u001b[1;34m(self, s)\u001b[0m\n\u001b[0;32m     15\u001b[0m                 \u001b[0mvisited\u001b[0m\u001b[1;33m[\u001b[0m\u001b[0mc\u001b[0m\u001b[1;33m]\u001b[0m \u001b[1;33m=\u001b[0m \u001b[0mi\u001b[0m\u001b[1;33m\u001b[0m\u001b[0m\n\u001b[0;32m     16\u001b[0m             \u001b[1;32melse\u001b[0m\u001b[1;33m:\u001b[0m\u001b[1;33m\u001b[0m\u001b[0m\n\u001b[1;32m---> 17\u001b[1;33m                 \u001b[1;32mif\u001b[0m \u001b[0mself\u001b[0m\u001b[1;33m.\u001b[0m\u001b[0misPalindrome\u001b[0m\u001b[1;33m(\u001b[0m\u001b[0ms\u001b[0m\u001b[1;33m[\u001b[0m\u001b[0mvisited\u001b[0m\u001b[1;33m[\u001b[0m\u001b[0mc\u001b[0m\u001b[1;33m]\u001b[0m\u001b[1;33m:\u001b[0m\u001b[0mi\u001b[0m\u001b[1;33m]\u001b[0m\u001b[1;33m)\u001b[0m\u001b[1;33m:\u001b[0m\u001b[1;33m\u001b[0m\u001b[0m\n\u001b[0m\u001b[0;32m     18\u001b[0m                     \u001b[1;32mif\u001b[0m\u001b[1;33m(\u001b[0m\u001b[0mi\u001b[0m \u001b[1;33m-\u001b[0m \u001b[0ms\u001b[0m\u001b[1;33m[\u001b[0m\u001b[0mvisited\u001b[0m\u001b[1;33m[\u001b[0m\u001b[0mc\u001b[0m\u001b[1;33m]\u001b[0m\u001b[1;33m]\u001b[0m \u001b[1;33m>\u001b[0m \u001b[0msolutionLength\u001b[0m\u001b[1;33m)\u001b[0m\u001b[1;33m:\u001b[0m\u001b[1;33m\u001b[0m\u001b[0m\n\u001b[0;32m     19\u001b[0m                         \u001b[0msolutionLength\u001b[0m \u001b[1;33m=\u001b[0m \u001b[0mi\u001b[0m \u001b[1;33m-\u001b[0m \u001b[0ms\u001b[0m\u001b[1;33m[\u001b[0m\u001b[0mvisited\u001b[0m\u001b[1;33m[\u001b[0m\u001b[0mc\u001b[0m\u001b[1;33m]\u001b[0m\u001b[1;33m]\u001b[0m\u001b[1;33m\u001b[0m\u001b[0m\n",
                        "\u001b[1;32m~\\AppData\\Local\\Temp\\ipykernel_7932\\869132298.py\u001b[0m in \u001b[0;36misPalindrome\u001b[1;34m(self, s)\u001b[0m\n\u001b[0;32m      3\u001b[0m \u001b[1;32mclass\u001b[0m \u001b[0mSolution\u001b[0m\u001b[1;33m:\u001b[0m\u001b[1;33m\u001b[0m\u001b[0m\n\u001b[0;32m      4\u001b[0m     \u001b[1;32mdef\u001b[0m \u001b[0misPalindrome\u001b[0m\u001b[1;33m(\u001b[0m\u001b[0mself\u001b[0m\u001b[1;33m,\u001b[0m\u001b[0ms\u001b[0m\u001b[1;33m:\u001b[0m\u001b[0mstr\u001b[0m\u001b[1;33m)\u001b[0m \u001b[1;33m->\u001b[0m \u001b[0mbool\u001b[0m\u001b[1;33m:\u001b[0m\u001b[1;33m\u001b[0m\u001b[0m\n\u001b[1;32m----> 5\u001b[1;33m         \u001b[0mprint\u001b[0m\u001b[1;33m(\u001b[0m\u001b[1;34mf\"s : {s} s-reversed : {s.__reversed__()}\"\u001b[0m\u001b[1;33m)\u001b[0m\u001b[1;33m\u001b[0m\u001b[0m\n\u001b[0m\u001b[0;32m      6\u001b[0m         \u001b[1;32mreturn\u001b[0m \u001b[0ms\u001b[0m \u001b[1;33m==\u001b[0m \u001b[0ms\u001b[0m\u001b[1;33m.\u001b[0m\u001b[0m__reversed__\u001b[0m\u001b[1;33m(\u001b[0m\u001b[1;33m)\u001b[0m\u001b[1;33m\u001b[0m\u001b[0m\n\u001b[0;32m      7\u001b[0m     \u001b[1;32mdef\u001b[0m \u001b[0mlongestPalindrome\u001b[0m\u001b[1;33m(\u001b[0m\u001b[0mself\u001b[0m\u001b[1;33m,\u001b[0m \u001b[0ms\u001b[0m\u001b[1;33m:\u001b[0m \u001b[0mstr\u001b[0m\u001b[1;33m)\u001b[0m \u001b[1;33m->\u001b[0m \u001b[0mstr\u001b[0m\u001b[1;33m:\u001b[0m\u001b[1;33m\u001b[0m\u001b[0m\n",
                        "\u001b[1;31mAttributeError\u001b[0m: 'str' object has no attribute '__reversed__'"
                    ]
                }
            ],
            "source": [
                "from typing import List\n",
                "\n",
                "class Solution:\n",
                "    def isPalindrome(self,s:str) -> bool:\n",
                "        print(f\"s : {s} s-reversed : {s[::-1]}\")\n",
                "        return s == s[::-1]\n",
                "    def longestPalindrome(self, s: str) -> str:\n",
                "        solutionLength = 0\n",
                "        solutionString = \"\"\n",
                "        \n",
                "        visited ={}\n",
                "        \n",
                "        for i,c in enumerate(s):\n",
                "            if c not in visited:\n",
                "                visited[c] = i\n",
                "            else:\n",
                "                if self.isPalindrome(s[visited[c]:i]):\n",
                "                    if(i - s[visited[c]] > solutionLength):\n",
                "                        solutionLength = i - s[visited[c]]\n",
                "                        solutionString = s[visited[c]:i]\n",
                "                \n",
                "\n",
                "        return solutionString\n",
                "    \n",
                "\n",
                "# Create an instance of Solution\n",
                "solution = Solution()\n",
                "\n",
                "# Example for Longest Palindromic Substring\n",
                "print(\"Longest Palindromic Substring:\")\n",
                "# Example 1\n",
                "s = \"ababd\"\n",
                "expected1 = \"bab\"\n",
                "print(f\"Input: nums = {s}\")\n",
                "print(f\"Output: {solution.longestPalindrome(s)}, Expected: {expected1}\\n\")\n",
                "\n",
                "# Example 2\n",
                "s = \"abbc\"\n",
                "expected1 = \"bb\"\n",
                "print(f\"Input: nums = {s}\")\n",
                "print(f\"Output: {solution.longestPalindrome(s)}, Expected: {expected1}\\n\")\n",
                "\n"
            ]
        },
        {
            "cell_type": "code",
            "execution_count": 27,
            "id": "4c559d3e",
            "metadata": {},
            "outputs": [
                {
                    "name": "stdout",
                    "output_type": "stream",
                    "text": [
                        "[2, 1, 1] 1\n"
                    ]
                }
            ],
            "source": []
        }
    ],
    "metadata": {
        "kernelspec": {
            "display_name": "Python 3",
            "language": "python",
            "name": "python3"
        },
        "language_info": {
            "codemirror_mode": {
                "name": "ipython",
                "version": 3
            },
            "file_extension": ".py",
            "mimetype": "text/x-python",
            "name": "python",
            "nbconvert_exporter": "python",
            "pygments_lexer": "ipython3",
            "version": "3.7.0"
        }
    },
    "nbformat": 4,
    "nbformat_minor": 5
}
