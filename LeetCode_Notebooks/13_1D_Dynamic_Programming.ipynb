{
    "cells": [
        {
            "cell_type": "code",
            "execution_count": 2,
            "id": "2e81cfe8",
            "metadata": {},
            "outputs": [
                {
                    "name": "stdout",
                    "output_type": "stream",
                    "text": [
                        "Climbing Stairs:\n",
                        "Input: n = 2\n",
                        "Output: 2, Expected: 2\n",
                        "\n",
                        "Input: n = 3\n",
                        "Output: 3, Expected: 3\n",
                        "\n",
                        "Input: n = 5\n",
                        "Output: 8, Expected: 8\n",
                        "\n"
                    ]
                }
            ],
            "source": [
                "class Solution:\n",
                "    def climbStairs(self, n: int) -> int:\n",
                "        \"\"\"\n",
                "        :type n: int\n",
                "        :rtype: int\n",
                "        \"\"\"\n",
                "        # Base cases for 1 and 2 steps\n",
                "        if n == 1:\n",
                "            return 1\n",
                "        if n == 2:\n",
                "            return 2\n",
                "        \n",
                "        # Initialize two variables to store the number of ways\n",
                "        # to reach the previous step and the step before that\n",
                "        prev1, prev2 = 2, 1\n",
                "        \n",
                "        # Calculate the number of ways for each step from 3 to n\n",
                "        for i in range(3, n + 1):\n",
                "            current = prev1 + prev2\n",
                "            prev2 = prev1\n",
                "            prev1 = current\n",
                "        \n",
                "        return prev1\n",
                "\n",
                "# Create an instance of Solution\n",
                "solution = Solution()\n",
                "\n",
                "# Test cases\n",
                "print(\"Climbing Stairs:\")\n",
                "\n",
                "# Test Case 1\n",
                "n1 = 2\n",
                "expected1 = 2\n",
                "print(f\"Input: n = {n1}\")\n",
                "print(f\"Output: {solution.climbStairs(n1)}, Expected: {expected1}\\n\")\n",
                "\n",
                "# Test Case 2\n",
                "n2 = 3\n",
                "expected2 = 3\n",
                "print(f\"Input: n = {n2}\")\n",
                "print(f\"Output: {solution.climbStairs(n2)}, Expected: {expected2}\\n\")\n",
                "\n",
                "# Test Case 3\n",
                "n3 = 5\n",
                "expected3 = 8\n",
                "print(f\"Input: n = {n3}\")\n",
                "print(f\"Output: {solution.climbStairs(n3)}, Expected: {expected3}\\n\")\n"
            ]
        },
        {
            "cell_type": "code",
            "execution_count": 4,
            "id": "8f05ca68",
            "metadata": {},
            "outputs": [
                {
                    "name": "stdout",
                    "output_type": "stream",
                    "text": [
                        "House Robber:\n",
                        "Input: nums = [1, 2, 3, 1]\n",
                        "Output: 4, Expected: 4\n",
                        "\n",
                        "Input: nums = [2, 7, 9, 3, 1]\n",
                        "Output: 12, Expected: 12\n"
                    ]
                }
            ],
            "source": [
                "from typing import List\n",
                "\n",
                "class Solution:\n",
                "    # Problem: House Robber\n",
                "    def rob(self, nums: List[int]) -> int:\n",
                "        \n",
                "        if len(nums) == 1:\n",
                "            return nums[0]\n",
                "\n",
                "        if len(nums) == 2:\n",
                "            return max(nums)\n",
                "        \n",
                "        result = 0\n",
                "        \n",
                "        for i in range(1,len(nums)):\n",
                "            if i < len(nums) -2:\n",
                "                \n",
                "                if nums[i+1] > nums[i] > nums[i-1] :\n",
                "                    nums[i+1] + = nums[i-1]\n",
                "                if nums[i] > nums[i-1] and nums[i] > nums[i+1]:\n",
                "                    result += nums[i]\n",
                "                \n",
                "                \n",
                "        \n",
                "        \n",
                "\n",
                "        return 0\n",
                "\n",
                "# Create an instance of Solution\n",
                "solution = Solution()\n",
                "\n",
                "# Example for House Robber\n",
                "print(\"House Robber:\")\n",
                "# Example 1\n",
                "nums1 = [1, 2, 3, 1]\n",
                "expected1 = 4\n",
                "print(f\"Input: nums = {nums1}\")\n",
                "print(f\"Output: {solution.rob(nums1)}, Expected: {expected1}\\n\")\n",
                "\n",
                "# Example 2\n",
                "nums2 = [2, 7, 9, 3, 1]\n",
                "expected2 = 12\n",
                "print(f\"Input: nums = {nums2}\")\n",
                "print(f\"Output: {solution.rob(nums2)}, Expected: {expected2}\")"
            ]
        }
    ],
    "metadata": {
        "kernelspec": {
            "display_name": "Python 3",
            "language": "python",
            "name": "python3"
        },
        "language_info": {
            "codemirror_mode": {
                "name": "ipython",
                "version": 3
            },
            "file_extension": ".py",
            "mimetype": "text/x-python",
            "name": "python",
            "nbconvert_exporter": "python",
            "pygments_lexer": "ipython3",
            "version": "3.7.0"
        }
    },
    "nbformat": 4,
    "nbformat_minor": 5
}
