{
    "cells": [
        {
            "cell_type": "code",
            "execution_count": 1,
            "id": "b0427c8e",
            "metadata": {},
            "outputs": [
                {
                    "name": "stdout",
                    "output_type": "stream",
                    "text": [
                        "Example 1 - Output: 0, Expected: 1, Pass: False\n",
                        "Example 2 - Output: 0, Expected: 4, Pass: False\n"
                    ]
                }
            ],
            "source": [
                "from typing import List\n",
                "\n",
                "class Solution:\n",
                "    # Problem 1: Number of Islands\n",
                "    def numIslands(self, grid: List[List[str]]) -> int:\n",
                "        \"\"\"\n",
                "        :type grid: List[List[str]]\n",
                "        :rtype: int\n",
                "        \"\"\"\n",
                "        # Dummy return value; replace with your implementation.\n",
                "        return 0\n",
                "\n",
                "# Create an instance of Solution\n",
                "solution = Solution()\n",
                "\n",
                "# Example for Number of Islands\n",
                "print(\"Number of Islands:\")\n",
                "# Example 1\n",
                "grid1 = [\n",
                "    [\"0\", \"1\", \"1\", \"1\", \"0\"],\n",
                "    [\"0\", \"1\", \"0\", \"1\", \"0\"],\n",
                "    [\"1\", \"1\", \"0\", \"0\", \"0\"],\n",
                "    [\"0\", \"0\", \"0\", \"0\", \"0\"]\n",
                "]\n",
                "expected1 = 1\n",
                "print(f\"Input: grid = {grid1}\")\n",
                "print(f\"Output: {solution.numIslands(grid1)}, Expected: {expected1}\\n\")\n",
                "\n",
                "# Example 2\n",
                "grid2 = [\n",
                "    [\"1\", \"1\", \"0\", \"0\", \"1\"],\n",
                "    [\"1\", \"1\", \"0\", \"0\", \"1\"],\n",
                "    [\"0\", \"0\", \"1\", \"0\", \"0\"],\n",
                "    [\"0\", \"0\", \"0\", \"1\", \"1\"]\n",
                "]\n",
                "expected2 = 4\n",
                "print(f\"Input: grid = {grid2}\")\n",
                "print(f\"Output: {solution.numIslands(grid2)}, Expected: {expected2}\")\n"
            ]
        }
    ],
    "metadata": {
        "kernelspec": {
            "display_name": "Python 3",
            "language": "python",
            "name": "python3"
        },
        "language_info": {
            "codemirror_mode": {
                "name": "ipython",
                "version": 3
            },
            "file_extension": ".py",
            "mimetype": "text/x-python",
            "name": "python",
            "nbconvert_exporter": "python",
            "pygments_lexer": "ipython3",
            "version": "3.7.0"
        }
    },
    "nbformat": 4,
    "nbformat_minor": 5
}
